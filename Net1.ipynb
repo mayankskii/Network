{
 "cells": [
  {
   "cell_type": "code",
   "execution_count": 1,
   "metadata": {},
   "outputs": [],
   "source": [
    "#run keras model on gpu"
   ]
  },
  {
   "cell_type": "code",
   "execution_count": 2,
   "metadata": {},
   "outputs": [
    {
     "name": "stderr",
     "output_type": "stream",
     "text": [
      "Using TensorFlow backend.\n"
     ]
    }
   ],
   "source": [
    "# first neural network with keras tutorial\n",
    "from numpy import loadtxt\n",
    "from keras.models import Sequential\n",
    "from keras.layers import Dense\n",
    "import matplotlib.pyplot as plt"
   ]
  },
  {
   "cell_type": "code",
   "execution_count": 3,
   "metadata": {},
   "outputs": [],
   "source": [
    "# load the dataset\n",
    "dataset = loadtxt('pima-indians-diabetes.data.csv', delimiter=',')\n",
    "# split into input (X) and output (y) variables\n",
    "X = dataset[:,0:8]\n",
    "y = dataset[:,8]"
   ]
  },
  {
   "cell_type": "code",
   "execution_count": 4,
   "metadata": {},
   "outputs": [],
   "source": [
    "# define the keras model\n",
    "model = Sequential()\n",
    "model.add(Dense(12, input_dim=8, activation='relu'))\n",
    "model.add(Dense(8, activation='relu'))\n",
    "model.add(Dense(1, activation='sigmoid'))"
   ]
  },
  {
   "cell_type": "code",
   "execution_count": 5,
   "metadata": {},
   "outputs": [],
   "source": [
    "from time import time\n",
    "from tensorflow.python.keras.callbacks import TensorBoard\n",
    "\n",
    "tensorboard = TensorBoard(log_dir = \"logs/{}\".format(time()))"
   ]
  },
  {
   "cell_type": "code",
   "execution_count": 6,
   "metadata": {},
   "outputs": [
    {
     "name": "stdout",
     "output_type": "stream",
     "text": [
      "WARNING:tensorflow:From /Users/mayankmahawar/anaconda3/lib/python3.7/site-packages/tensorflow_core/python/ops/nn_impl.py:183: where (from tensorflow.python.ops.array_ops) is deprecated and will be removed in a future version.\n",
      "Instructions for updating:\n",
      "Use tf.where in 2.0, which has the same broadcast rule as np.where\n"
     ]
    }
   ],
   "source": [
    "# compile the keras model\n",
    "model.compile(loss='binary_crossentropy', optimizer='adam', metrics=['acc'])"
   ]
  },
  {
   "cell_type": "code",
   "execution_count": 7,
   "metadata": {},
   "outputs": [
    {
     "name": "stdout",
     "output_type": "stream",
     "text": [
      "Train on 576 samples, validate on 192 samples\n",
      "Epoch 1/50\n",
      "576/576 [==============================] - 0s 445us/step - loss: 6.0406 - acc: 0.3316 - val_loss: 3.1176 - val_acc: 0.4531\n",
      "Epoch 2/50\n",
      "576/576 [==============================] - 0s 152us/step - loss: 2.5406 - acc: 0.3750 - val_loss: 1.2934 - val_acc: 0.4688\n",
      "Epoch 3/50\n",
      "576/576 [==============================] - 0s 167us/step - loss: 1.3175 - acc: 0.4809 - val_loss: 0.8928 - val_acc: 0.5885\n",
      "Epoch 4/50\n",
      "576/576 [==============================] - 0s 166us/step - loss: 1.0094 - acc: 0.5660 - val_loss: 0.8295 - val_acc: 0.5990\n",
      "Epoch 5/50\n",
      "576/576 [==============================] - 0s 110us/step - loss: 0.9154 - acc: 0.6024 - val_loss: 0.7897 - val_acc: 0.5833\n",
      "Epoch 6/50\n",
      "576/576 [==============================] - 0s 105us/step - loss: 0.8537 - acc: 0.6337 - val_loss: 0.7997 - val_acc: 0.5625\n",
      "Epoch 7/50\n",
      "576/576 [==============================] - 0s 138us/step - loss: 0.8151 - acc: 0.6441 - val_loss: 0.7666 - val_acc: 0.5990\n",
      "Epoch 8/50\n",
      "576/576 [==============================] - 0s 106us/step - loss: 0.7859 - acc: 0.6319 - val_loss: 0.8299 - val_acc: 0.5521\n",
      "Epoch 9/50\n",
      "576/576 [==============================] - 0s 116us/step - loss: 0.7656 - acc: 0.6562 - val_loss: 0.7991 - val_acc: 0.5417\n",
      "Epoch 10/50\n",
      "576/576 [==============================] - 0s 106us/step - loss: 0.7538 - acc: 0.6701 - val_loss: 0.7669 - val_acc: 0.5625\n",
      "Epoch 11/50\n",
      "576/576 [==============================] - 0s 115us/step - loss: 0.7194 - acc: 0.6701 - val_loss: 0.7506 - val_acc: 0.6198\n",
      "Epoch 12/50\n",
      "576/576 [==============================] - 0s 105us/step - loss: 0.7098 - acc: 0.6684 - val_loss: 0.7896 - val_acc: 0.5365\n",
      "Epoch 13/50\n",
      "576/576 [==============================] - 0s 142us/step - loss: 0.7118 - acc: 0.6667 - val_loss: 0.7340 - val_acc: 0.5625\n",
      "Epoch 14/50\n",
      "576/576 [==============================] - 0s 144us/step - loss: 0.6920 - acc: 0.6649 - val_loss: 0.7247 - val_acc: 0.5938\n",
      "Epoch 15/50\n",
      "576/576 [==============================] - 0s 113us/step - loss: 0.6850 - acc: 0.6667 - val_loss: 0.7432 - val_acc: 0.5521\n",
      "Epoch 16/50\n",
      "576/576 [==============================] - 0s 132us/step - loss: 0.6779 - acc: 0.6719 - val_loss: 0.7296 - val_acc: 0.5625\n",
      "Epoch 17/50\n",
      "576/576 [==============================] - 0s 120us/step - loss: 0.6919 - acc: 0.6667 - val_loss: 0.7242 - val_acc: 0.5677\n",
      "Epoch 18/50\n",
      "576/576 [==============================] - 0s 107us/step - loss: 0.6704 - acc: 0.6771 - val_loss: 0.7340 - val_acc: 0.5573\n",
      "Epoch 19/50\n",
      "576/576 [==============================] - 0s 104us/step - loss: 0.6761 - acc: 0.6580 - val_loss: 0.7350 - val_acc: 0.5521\n",
      "Epoch 20/50\n",
      "576/576 [==============================] - 0s 120us/step - loss: 0.6749 - acc: 0.6719 - val_loss: 0.7073 - val_acc: 0.6094\n",
      "Epoch 21/50\n",
      "576/576 [==============================] - 0s 121us/step - loss: 0.6613 - acc: 0.6649 - val_loss: 0.7157 - val_acc: 0.6042\n",
      "Epoch 22/50\n",
      "576/576 [==============================] - 0s 118us/step - loss: 0.6559 - acc: 0.6701 - val_loss: 0.6989 - val_acc: 0.6198\n",
      "Epoch 23/50\n",
      "576/576 [==============================] - 0s 107us/step - loss: 0.6563 - acc: 0.6753 - val_loss: 0.7178 - val_acc: 0.5677\n",
      "Epoch 24/50\n",
      "576/576 [==============================] - 0s 137us/step - loss: 0.6551 - acc: 0.6806 - val_loss: 0.7093 - val_acc: 0.6302\n",
      "Epoch 25/50\n",
      "576/576 [==============================] - 0s 124us/step - loss: 0.6666 - acc: 0.6736 - val_loss: 0.6951 - val_acc: 0.6250\n",
      "Epoch 26/50\n",
      "576/576 [==============================] - 0s 109us/step - loss: 0.6619 - acc: 0.6701 - val_loss: 0.7083 - val_acc: 0.6458\n",
      "Epoch 27/50\n",
      "576/576 [==============================] - 0s 106us/step - loss: 0.6502 - acc: 0.6753 - val_loss: 0.7070 - val_acc: 0.6354\n",
      "Epoch 28/50\n",
      "576/576 [==============================] - 0s 108us/step - loss: 0.6481 - acc: 0.6736 - val_loss: 0.6854 - val_acc: 0.5990\n",
      "Epoch 29/50\n",
      "576/576 [==============================] - 0s 118us/step - loss: 0.6322 - acc: 0.6806 - val_loss: 0.6904 - val_acc: 0.6094\n",
      "Epoch 30/50\n",
      "576/576 [==============================] - 0s 134us/step - loss: 0.6468 - acc: 0.6701 - val_loss: 0.7010 - val_acc: 0.5885\n",
      "Epoch 31/50\n",
      "576/576 [==============================] - 0s 119us/step - loss: 0.6434 - acc: 0.6736 - val_loss: 0.7105 - val_acc: 0.5729\n",
      "Epoch 32/50\n",
      "576/576 [==============================] - 0s 117us/step - loss: 0.6528 - acc: 0.6719 - val_loss: 0.6966 - val_acc: 0.5781\n",
      "Epoch 33/50\n",
      "576/576 [==============================] - 0s 147us/step - loss: 0.6383 - acc: 0.6771 - val_loss: 0.7055 - val_acc: 0.5729\n",
      "Epoch 34/50\n",
      "576/576 [==============================] - 0s 107us/step - loss: 0.6280 - acc: 0.6788 - val_loss: 0.6754 - val_acc: 0.6146\n",
      "Epoch 35/50\n",
      "576/576 [==============================] - 0s 104us/step - loss: 0.6258 - acc: 0.6788 - val_loss: 0.6759 - val_acc: 0.6354\n",
      "Epoch 36/50\n",
      "576/576 [==============================] - 0s 106us/step - loss: 0.6261 - acc: 0.6736 - val_loss: 0.6785 - val_acc: 0.6302\n",
      "Epoch 37/50\n",
      "576/576 [==============================] - 0s 127us/step - loss: 0.6257 - acc: 0.6736 - val_loss: 0.6775 - val_acc: 0.6354\n",
      "Epoch 38/50\n",
      "576/576 [==============================] - 0s 116us/step - loss: 0.6159 - acc: 0.6806 - val_loss: 0.6700 - val_acc: 0.6354\n",
      "Epoch 39/50\n",
      "576/576 [==============================] - 0s 110us/step - loss: 0.6169 - acc: 0.6823 - val_loss: 0.6852 - val_acc: 0.6042\n",
      "Epoch 40/50\n",
      "576/576 [==============================] - 0s 107us/step - loss: 0.6237 - acc: 0.6719 - val_loss: 0.6813 - val_acc: 0.5990\n",
      "Epoch 41/50\n",
      "576/576 [==============================] - 0s 119us/step - loss: 0.6109 - acc: 0.6858 - val_loss: 0.6610 - val_acc: 0.6458\n",
      "Epoch 42/50\n",
      "576/576 [==============================] - 0s 172us/step - loss: 0.6186 - acc: 0.6840 - val_loss: 0.6692 - val_acc: 0.6354\n",
      "Epoch 43/50\n",
      "576/576 [==============================] - 0s 130us/step - loss: 0.6110 - acc: 0.6788 - val_loss: 0.6624 - val_acc: 0.6354\n",
      "Epoch 44/50\n",
      "576/576 [==============================] - 0s 140us/step - loss: 0.6039 - acc: 0.6892 - val_loss: 0.6806 - val_acc: 0.6406\n",
      "Epoch 45/50\n",
      "576/576 [==============================] - 0s 137us/step - loss: 0.6122 - acc: 0.6840 - val_loss: 0.6650 - val_acc: 0.6406\n",
      "Epoch 46/50\n",
      "576/576 [==============================] - 0s 121us/step - loss: 0.5994 - acc: 0.6892 - val_loss: 0.6877 - val_acc: 0.5729\n",
      "Epoch 47/50\n",
      "576/576 [==============================] - 0s 120us/step - loss: 0.5973 - acc: 0.6892 - val_loss: 0.6787 - val_acc: 0.6354\n",
      "Epoch 48/50\n",
      "576/576 [==============================] - 0s 108us/step - loss: 0.6086 - acc: 0.6753 - val_loss: 0.6725 - val_acc: 0.6198\n",
      "Epoch 49/50\n",
      "576/576 [==============================] - 0s 107us/step - loss: 0.6119 - acc: 0.6806 - val_loss: 0.6614 - val_acc: 0.6302\n",
      "Epoch 50/50\n",
      "576/576 [==============================] - 0s 157us/step - loss: 0.6023 - acc: 0.6910 - val_loss: 0.6597 - val_acc: 0.6354\n"
     ]
    },
    {
     "data": {
      "image/png": "[encoded data removed]",
      "text/plain": [
       "<Figure size 432x288 with 1 Axes>"
      ]
     },
     "metadata": {
      "needs_background": "light"
     },
     "output_type": "display_data"
    },
    {
     "data": {
      "image/png": "[encoded data removed]",
      "text/plain": [
       "<Figure size 432x288 with 1 Axes>"
      ]
     },
     "metadata": {
      "needs_background": "light"
     },
     "output_type": "display_data"
    }
   ],
   "source": [
    "history = model.fit(X, y, validation_split=0.25, epochs=50, batch_size=16, verbose=1)\n",
    "\n",
    "# Plot training & validation accuracy values\n",
    "plt.plot(history.history['acc'])\n",
    "plt.plot(history.history['val_acc'])\n",
    "plt.title('Model accuracy')\n",
    "plt.ylabel('Accuracy')\n",
    "plt.xlabel('Epoch')\n",
    "plt.legend(['Train', 'Test'], loc='upper left')\n",
    "plt.show()\n",
    "\n",
    "# Plot training & validation loss values\n",
    "plt.plot(history.history['loss'])\n",
    "plt.plot(history.history['val_loss'])\n",
    "plt.title('Model loss')\n",
    "plt.ylabel('Loss')\n",
    "plt.xlabel('Epoch')\n",
    "plt.legend(['Train', 'Test'], loc='upper left')\n",
    "plt.show()\n"
   ]
  },
  {
   "cell_type": "code",
   "execution_count": null,
   "metadata": {},
   "outputs": [],
   "source": [
    "# fit the keras model on the dataset\n",
    "h = model.fit(X, y,validation_split=0.25, epochs=150, batch_size=10)"
   ]
  },
  {
   "cell_type": "code",
   "execution_count": null,
   "metadata": {},
   "outputs": [],
   "source": [
    "print(h.history.keys())"
   ]
  },
  {
   "cell_type": "code",
   "execution_count": null,
   "metadata": {},
   "outputs": [],
   "source": [
    "# evaluate the keras model\n",
    "_, accuracy = model.evaluate(X, y)\n",
    "print('Accuracy: %.2f' % (accuracy*100))"
   ]
  },
  {
   "cell_type": "code",
   "execution_count": null,
   "metadata": {},
   "outputs": [],
   "source": [
    "from keras.utils import plot_model\n",
    "plot_model(model, to_file='model.png')"
   ]
  },
  {
   "cell_type": "code",
   "execution_count": null,
   "metadata": {},
   "outputs": [],
   "source": [
    "import numpy as np\n",
    "np.mean(history.history['val_loss'])"
   ]
  },
  {
   "cell_type": "code",
   "execution_count": null,
   "metadata": {},
   "outputs": [],
   "source": [
    "pip install tensorflow==1.15"
   ]
  },
  {
   "cell_type": "code",
   "execution_count": null,
   "metadata": {},
   "outputs": [],
   "source": [
    "pip install --upgrade tensorflow"
   ]
  },
  {
   "cell_type": "code",
   "execution_count": null,
   "metadata": {},
   "outputs": [],
   "source": [
    "import tensorflow as tf\n",
    "tf.VERSION"
   ]
  },
  {
   "cell_type": "code",
   "execution_count": null,
   "metadata": {},
   "outputs": [],
   "source": [
    "import keras\n",
    "keras.__version__"
   ]
  },
  {
   "cell_type": "code",
   "execution_count": null,
   "metadata": {},
   "outputs": [],
   "source": [
    "pip install tensorflow==2.0.0-rc0"
   ]
  },
  {
   "cell_type": "code",
   "execution_count": null,
   "metadata": {},
   "outputs": [],
   "source": [
    "pip install --upgrade keras"
   ]
  },
  {
   "cell_type": "code",
   "execution_count": null,
   "metadata": {},
   "outputs": [],
   "source": [
    "pip install tensorflow==2.0.0-rc1 "
   ]
  },
  {
   "cell_type": "code",
   "execution_count": null,
   "metadata": {},
   "outputs": [],
   "source": []
  }
 ],
 "metadata": {
  "kernelspec": {
   "display_name": "Python 3",
   "language": "python",
   "name": "python3"
  },
  "language_info": {
   "codemirror_mode": {
    "name": "ipython",
    "version": 3
   },
   "file_extension": ".py",
   "mimetype": "text/x-python",
   "name": "python",
   "nbconvert_exporter": "python",
   "pygments_lexer": "ipython3",
   "version": "3.7.4"
  }
 },
 "nbformat": 4,
 "nbformat_minor": 2
}
