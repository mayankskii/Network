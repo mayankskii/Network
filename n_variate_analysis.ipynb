{
 "cells": [
  {
   "cell_type": "code",
   "execution_count": 3,
   "id": "7d323e44-c250-4192-9d2b-60b4a6c957ba",
   "metadata": {},
   "outputs": [
    {
     "name": "stdout",
     "output_type": "stream",
     "text": [
      "Note: you may need to restart the kernel to use updated packages.\n"
     ]
    }
   ],
   "source": [
    "%pip install optbinning pandas-profiling -U -q\n",
    "\n",
    "import pandas as pd\n",
    "import numpy as np"
   ]
  },
  {
   "cell_type": "code",
   "execution_count": 4,
   "id": "0832dbb7-ff2c-4c21-90b5-312b24258399",
   "metadata": {},
   "outputs": [],
   "source": [
    "transformed_data = pd.read_parquet('transformed_data.parquet')\n",
    "holding_matrix = pd.read_parquet('holding_matrix.parquet')"
   ]
  },
  {
   "cell_type": "code",
   "execution_count": 10,
   "id": "db1f2e34-dc8b-48fe-bd20-38bcbd616a59",
   "metadata": {},
   "outputs": [],
   "source": [
    "transformed_data = transformed_data.rename(columns={k: f'xsold_{k}' for k in ['Casualty', 'Corporate', 'Cyber',\n",
    "       'DM and Partnership', 'Environmental Risks', 'Financial Lines', 'Fire',\n",
    "       'Marine', 'Property', 'Tech Lines', 'Terrorism', 'Travel']})"
   ]
  },
  {
   "cell_type": "code",
   "execution_count": 11,
   "id": "5afc6bac-07ee-494a-8775-05023286fa53",
   "metadata": {},
   "outputs": [],
   "source": [
    "sdf = pd.concat([transformed_data, holding_matrix], axis=1)"
   ]
  },
  {
   "cell_type": "code",
   "execution_count": 12,
   "id": "02775e48-b130-42db-9d0e-3012f90d785c",
   "metadata": {},
   "outputs": [
    {
     "data": {
      "application/vnd.jupyter.widget-view+json": {
       "model_id": "49ef3808b01344e489812bc9561eb4cc",
       "version_major": 2,
       "version_minor": 0
      },
      "text/plain": [
       "Summarize dataset:   0%|          | 0/5 [00:00<?, ?it/s]"
      ]
     },
     "metadata": {},
     "output_type": "display_data"
    },
    {
     "data": {
      "application/vnd.jupyter.widget-view+json": {
       "model_id": "1a95453c7a7a4151ad3592be59f52c0b",
       "version_major": 2,
       "version_minor": 0
      },
      "text/plain": [
       "Generate report structure:   0%|          | 0/1 [00:00<?, ?it/s]"
      ]
     },
     "metadata": {},
     "output_type": "display_data"
    },
    {
     "data": {
      "application/vnd.jupyter.widget-view+json": {
       "model_id": "dd40ea19398b44eea3589cd6dcff54e0",
       "version_major": 2,
       "version_minor": 0
      },
      "text/plain": [
       "Render HTML:   0%|          | 0/1 [00:00<?, ?it/s]"
      ]
     },
     "metadata": {},
     "output_type": "display_data"
    },
    {
     "data": {
      "application/vnd.jupyter.widget-view+json": {
       "model_id": "2f1bc4ff8b3e4b75a2335a19e943f93e",
       "version_major": 2,
       "version_minor": 0
      },
      "text/plain": [
       "Export report to file:   0%|          | 0/1 [00:00<?, ?it/s]"
      ]
     },
     "metadata": {},
     "output_type": "display_data"
    },
    {
     "data": {
      "application/vnd.jupyter.widget-view+json": {
       "model_id": "6982f90596b24ed19388df3adfb482d1",
       "version_major": 2,
       "version_minor": 0
      },
      "text/plain": [
       "Render JSON:   0%|          | 0/1 [00:00<?, ?it/s]"
      ]
     },
     "metadata": {},
     "output_type": "display_data"
    }
   ],
   "source": [
    "from pandas_profiling import ProfileReport\n",
    "profile = ProfileReport(sdf, title=\"Univariate Minimal Report\", minimal=True)\n",
    "\n",
    "profile.to_file(\"minimal_report.html\")\n",
    "\n",
    "import json\n",
    "json_data = json.loads(profile.to_json())\n",
    "\n",
    "keys = ['variable_name', 'n_distinct', 'p_distinct', 'is_unique', 'n_unique', 'p_unique', 'type', 'hashable', 'ordering', 'n_missing', 'n', 'p_missing', 'count', \n",
    " 'memory_size', 'n_negative', 'p_negative', 'n_infinite', 'n_zeros', 'mean', 'std', 'variance', 'min', 'max', 'kurtosis', 'skewness', 'sum', \n",
    " 'mad', 'range', '5%', '25%', '50%', '75%', '95%', 'iqr', 'cv', 'p_zeros', 'p_infinite', 'monotonic_increase', 'monotonic_decrease', \n",
    " 'monotonic_increase_strict', 'monotonic_decrease_strict', 'monotonic', 'top_ten_value_counts_without_nan', 'bottom_ten_value_counts_without_nan']\n",
    "\n",
    "profile_dict = {k:[] for k in keys}\n",
    "for i in json_data['variables'].keys():\n",
    "    for j in keys:\n",
    "        try:\n",
    "            if j=='variable_name':\n",
    "                profile_dict['variable_name'].append(i)\n",
    "            elif j=='top_ten_value_counts_without_nan':\n",
    "                top_ten_value_counts_without_nan = list(sdf[i].value_counts().iloc[:10].index.astype(str))\n",
    "                profile_dict[j].append(top_ten_value_counts_without_nan)\n",
    "            elif j=='bottom_ten_value_counts_without_nan':\n",
    "                bottom_ten_value_counts_without_nan = list(sdf[i].value_counts().iloc[-10:].index.astype(str))\n",
    "                profile_dict[j].append(bottom_ten_value_counts_without_nan)\n",
    "            else:\n",
    "                profile_dict[j].append(json_data['variables'][i][j])\n",
    "        except:\n",
    "            profile_dict[j].append(np.nan)\n",
    "\n",
    "pd.DataFrame(profile_dict).to_excel('univariate summary.xlsx', index=False)"
   ]
  },
  {
   "cell_type": "code",
   "execution_count": 1,
   "id": "bc2b83be-62c6-4d25-89c8-eea60a4be496",
   "metadata": {
    "jupyter": {
     "source_hidden": true
    },
    "tags": []
   },
   "outputs": [],
   "source": [
    "import time\n",
    "time.sleep(300)"
   ]
  },
  {
   "cell_type": "code",
   "execution_count": null,
   "id": "3b61ddfe-f814-418a-8895-e08cfa3b972b",
   "metadata": {},
   "outputs": [],
   "source": []
  }
 ],
 "metadata": {
  "kernelspec": {
   "display_name": "Python 3 (ipykernel)",
   "language": "python",
   "name": "python3"
  },
  "language_info": {
   "codemirror_mode": {
    "name": "ipython",
    "version": 3
   },
   "file_extension": ".py",
   "mimetype": "text/x-python",
   "name": "python",
   "nbconvert_exporter": "python",
   "pygments_lexer": "ipython3",
   "version": "3.8.10"
  }
 },
 "nbformat": 4,
 "nbformat_minor": 5
}
